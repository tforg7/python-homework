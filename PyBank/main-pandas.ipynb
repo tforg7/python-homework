{
 "cells": [
  {
   "cell_type": "code",
   "execution_count": 4,
   "id": "3158627a-6418-44e5-9669-f9099ecbc28e",
   "metadata": {},
   "outputs": [],
   "source": [
    "# import libraries\n",
    "import pandas as pd\n",
    "from pathlib import Path\n",
    "\n",
    "# Initialize Market evolution variables : maximum key-value pair\n",
    "Greatest_Increase = 0\n",
    "Greatest_Increase_date = \"Not determined\"\n",
    "\n",
    "# Initialize Market evolution variables : minimum key-value pair\n",
    "Greatest_Decrease = 0\n",
    "Greatest_Decrease_date = \"Not determined\"\n",
    "\n",
    "# Initialize path to csv file with the fonction path()\n",
    "csvpath = Path('budget_data.csv')\n",
    "\n",
    "budget = pd.read_csv(csvpath)\n",
    "\n",
    "# Initialize metric variables\n",
    "total_month = budget[\"Date\"].count()\n",
    "total = budget[\"Profit/Losses\"].sum()\n",
    "Average_change =  round ((int(budget.loc[85 , [\"Profit/Losses\"]]) - int(budget.loc[ 0 , [\"Profit/Losses\"]] )) / ( total_month -1) , 2)\n",
    "\n",
    "budget[\"Variation Market\"]  = budget[\"Profit/Losses\"].diff()\n",
    "\n",
    "# Initialize Market evolution variables\n",
    "Greatest_Increase = int (budget[\"Variation Market\"].nlargest(1))\n",
    "Greatest_Decrease = int (budget[\"Variation Market\"].nsmallest(1))\n",
    "\n",
    "# sort de dataframe in order to have the largest increase and decrease above and under the dataframe. Smallest value is first, largest at the end en NaN is last value\n",
    "Budget_Variation = budget.sort_values(\"Variation Market\", ignore_index=True)\n",
    "\n",
    "# Get the dates for the largest increase and decrease. \n",
    "Greatest_Decrease_date = Budget_Variation[\"Date\"].iloc[0]\n",
    "Greatest_Increase_date = Budget_Variation[\"Date\"].iloc[-2]\n",
    "\n",
    "\n",
    "# Set the path for the output.csv\n",
    "output = Path(\"output-pandas.txt\")\n",
    "\n",
    "# Open the output path as a file\n",
    "f = open(output, 'w')\n",
    "\n",
    "# Write a text line per line in the output.txt file\n",
    "f.write(\" Financial Analysis:\") \n",
    "f.write(\"\\n ----------------------------\")    \n",
    "f.write(f\"\\n Total Months: {total_month}\") \n",
    "f.write(f\"\\n Total: ${total}\")    \n",
    "f.write(f\"\\n Average  Change: ${Average_change}\")  \n",
    "f.write(f\"\\n Greatest Increase in Profits: {Greatest_Increase_date} (${Greatest_Increase})\")  \n",
    "f.write(f\"\\n Greatest Decrease in Profits: {Greatest_Decrease_date} (${Greatest_Decrease})\") \n",
    "f.close()\n"
   ]
  },
  {
   "cell_type": "code",
   "execution_count": null,
   "id": "e31edf04-5cd5-4c20-bf27-ee5e6c3fb21d",
   "metadata": {},
   "outputs": [],
   "source": []
  }
 ],
 "metadata": {
  "kernelspec": {
   "display_name": "Python 3 (ipykernel)",
   "language": "python",
   "name": "python3"
  },
  "language_info": {
   "codemirror_mode": {
    "name": "ipython",
    "version": 3
   },
   "file_extension": ".py",
   "mimetype": "text/x-python",
   "name": "python",
   "nbconvert_exporter": "python",
   "pygments_lexer": "ipython3",
   "version": "3.8.8"
  }
 },
 "nbformat": 4,
 "nbformat_minor": 5
}
